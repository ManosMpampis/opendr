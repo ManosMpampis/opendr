{
 "cells": [
  {
   "cell_type": "code",
   "execution_count": 1,
   "metadata": {
    "collapsed": true
   },
   "outputs": [
    {
     "name": "stderr",
     "output_type": "stream",
     "text": [
      "2023-05-01 03:51:20.587263: I tensorflow/core/util/port.cc:110] oneDNN custom operations are on. You may see slightly different numerical results due to floating-point round-off errors from different computation orders. To turn them off, set the environment variable `TF_ENABLE_ONEDNN_OPTS=0`.\n",
      "2023-05-01 03:51:20.607639: I tensorflow/core/platform/cpu_feature_guard.cc:182] This TensorFlow binary is optimized to use available CPU instructions in performance-critical operations.\n",
      "To enable the following instructions: AVX2 AVX512F AVX512_VNNI FMA, in other operations, rebuild TensorFlow with the appropriate compiler flags.\n"
     ]
    }
   ],
   "source": [
    "import pandas as pd\n",
    "from tbparse import SummaryReader\n",
    "import os\n",
    "from torch.utils.tensorboard import SummaryWriter"
   ]
  },
  {
   "cell_type": "code",
   "execution_count": 2,
   "outputs": [],
   "source": [
    "def combine_tensorboard_graphs(log_dir, experiment_name):\n",
    "    text_tag = \"config\"\n",
    "    dataFrames = []\n",
    "    dirs = sorted(os.listdir(f\"{log_dir}/{experiment_name}\"))\n",
    "    logs = []\n",
    "    for dir in dirs:\n",
    "        if dir[:5] == \"logs-\":\n",
    "            logs.append(dir)\n",
    "    writer = SummaryWriter(log_dir=f\"{log_dir}/{experiment_name}/{logs[-1]}_combined\")\n",
    "    for dir in logs:\n",
    "        reader = SummaryReader(f\"{log_dir}/{experiment_name}/{dir}\")\n",
    "        dataFrames.append(reader.scalars)\n",
    "\n",
    "    final_dt = dataFrames[0]\n",
    "    scallar_tags = final_dt.tag.unique().tolist()\n",
    "\n",
    "    text = (reader.text)[\"value\"].values[0]\n",
    "\n",
    "    writer.add_text(tag=text_tag, text_string=text)\n",
    "    for tag in scallar_tags:\n",
    "        tag_dt = final_dt[final_dt[\"tag\"] == tag]\n",
    "        last_entry = tag_dt.tail(1)[\"step\"].index.values[0]\n",
    "        for dt in dataFrames[1:]:\n",
    "            new_entries = dt[dt.tag == tag]\n",
    "            tag_dt = pd.concat([tag_dt.iloc[:last_entry],new_entries,tag_dt.iloc[last_entry:]]).reset_index(drop=True)\n",
    "            tag_dt = tag_dt.drop_duplicates(subset='step', keep='first')\n",
    "            tag_dt = tag_dt.sort_values(\"step\").reset_index(drop=True)\n",
    "        for idx in range(len(tag_dt)):\n",
    "            entry = tag_dt.iloc[idx]\n",
    "            writer.add_scalar(tag=entry[\"tag\"], scalar_value=entry[\"value\"], global_step=entry[\"step\"])\n",
    "    writer.close()"
   ],
   "metadata": {
    "collapsed": false
   }
  },
  {
   "cell_type": "code",
   "execution_count": 3,
   "outputs": [],
   "source": [
    "log_dir = \"/home/manos/Thesis/opendr/projects/python/perception/object_detection_2d/nanodet/temp\"\n",
    "\n",
    "experiments = [\"augmented_data\", \"augmented_data_with_augmentations\", \"norm_data_with_augmentations\"]\n",
    "for experiment_name in experiments:\n",
    "    combine_tensorboard_graphs(log_dir, experiment_name)"
   ],
   "metadata": {
    "collapsed": false
   }
  },
  {
   "cell_type": "markdown",
   "source": [],
   "metadata": {
    "collapsed": false
   }
  }
 ],
 "metadata": {
  "kernelspec": {
   "display_name": "Python 3",
   "language": "python",
   "name": "python3"
  },
  "language_info": {
   "codemirror_mode": {
    "name": "ipython",
    "version": 2
   },
   "file_extension": ".py",
   "mimetype": "text/x-python",
   "name": "python",
   "nbconvert_exporter": "python",
   "pygments_lexer": "ipython2",
   "version": "2.7.6"
  }
 },
 "nbformat": 4,
 "nbformat_minor": 0
}
